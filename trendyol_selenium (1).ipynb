{
 "cells": [
  {
   "cell_type": "code",
   "execution_count": 102,
   "metadata": {},
   "outputs": [],
   "source": [
    "from urllib.request import urlopen, Request\n",
    "from bs4 import BeautifulSoup, Comment\n",
    "\n",
    "import pandas as pd\n",
    "import numpy as np"
   ]
  },
  {
   "cell_type": "code",
   "execution_count": 103,
   "metadata": {},
   "outputs": [],
   "source": [
    "from selenium import webdriver"
   ]
  },
  {
   "cell_type": "code",
   "execution_count": 104,
   "metadata": {},
   "outputs": [],
   "source": [
    "url = \"https://www.trendyol.com/tum--urunler?q=royal%20canin&qt=royal%20canin&st=royal%2520ca&pi=\""
   ]
  },
  {
   "cell_type": "code",
   "execution_count": 105,
   "metadata": {},
   "outputs": [],
   "source": [
    "href_links = []\n",
    "\n",
    "headers = {'User-Agent': 'Mozilla/5.0 (X11; Linux x86_64) ' \n",
    "                      'AppleWebKit/537.11 (KHTML, like Gecko) '\n",
    "                      'Chrome/23.0.1271.64 Safari/537.11'}\n",
    "\n",
    "for i in range(1,3): #1,17 olacak\n",
    "    url1 = url + str(i)\n",
    "    req = Request(url = url1, headers = headers)\n",
    "    html = urlopen(req).read()\n",
    "    soup = BeautifulSoup(html,\"html.parser\")\n",
    "    try:\n",
    "        href = [div.a.get(\"href\") for div in soup.findAll(class_ = \"p-card-chldrn-cntnr\")]\n",
    "    except:\n",
    "        print(\"None\")\n",
    "    href_links.append(href)"
   ]
  },
  {
   "cell_type": "code",
   "execution_count": 108,
   "metadata": {
    "scrolled": true
   },
   "outputs": [
    {
     "data": {
      "text/plain": [
       "48"
      ]
     },
     "execution_count": 108,
     "metadata": {},
     "output_type": "execute_result"
    }
   ],
   "source": [
    "len(href_links)"
   ]
  },
  {
   "cell_type": "code",
   "execution_count": 107,
   "metadata": {},
   "outputs": [],
   "source": [
    "href_links = [j for sub in href_links for j in sub]"
   ]
  },
  {
   "cell_type": "code",
   "execution_count": 88,
   "metadata": {
    "collapsed": true
   },
   "outputs": [
    {
     "data": {
      "text/plain": [
       "['/royal-canin/kitten-yavru-kedi-mamasi-2-kg-p-750104?boutiqueId=572633&merchantId=106924',\n",
       " '/royal-canin/kitten-kedi-kuru-mamasi-4-kg-p-1224010?boutiqueId=569126&merchantId=112571',\n",
       " '/royal-canin/sterilised-37-kedi-mamasi-4-kg-p-750115?boutiqueId=569126&merchantId=106924',\n",
       " '/royal-canin/mother-babycat-yavru-kuru-kedi-mamasi-4-kg-p-750118?boutiqueId=569126&merchantId=106924',\n",
       " '/royal-canin/sterilised-kisirlastirilmis-kedi-mamasi-10-kg-p-35101612?boutiqueId=569126&merchantId=269810',\n",
       " '/royal-canin/sterilised-37-kedi-kuru-mamasi-2-kg-p-750114?boutiqueId=572633&merchantId=106924',\n",
       " '/royal-canin/british-shorthair-kitten-kedi-kuru-mamasi-2-kg-p-2264327?boutiqueId=569126&merchantId=106924',\n",
       " '/royal-canin/babycat-yavru-kuru-kedi-mamasi-2-kg-p-750117?boutiqueId=572633&merchantId=106924',\n",
       " '/royal-canin/british-shorthair-adult-kedi-kuru-mamasi-2-kg-p-1196305?boutiqueId=569126&merchantId=106924',\n",
       " '/royal-canin/kitten-yavru-kedi-mamasi-10-kg-p-750105?boutiqueId=569126&merchantId=106924',\n",
       " '/royal-canin/hair-skin-hassas-tuylu-kediler-icin-mama-2-kg-p-750107?boutiqueId=61&merchantId=244620',\n",
       " '/royal-canin/sterilised-37-kedi-mamasi-15-kg-p-750116?boutiqueId=569126&merchantId=118045',\n",
       " '/royal-canin/fit-32-kedi-kuru-mamasi-4-kg-p-750101?boutiqueId=570354&merchantId=222830',\n",
       " '/royal-canin/fcn-hairskin-deri-ve-tuy-sagligi-icin-yetiskin-kuru-kedi-mamasi-4-kg-p-925654?boutiqueId=569126&merchantId=107361',\n",
       " '/royal-canin/fit-32-yetiskin-kedi-mamasi-2-kg-p-750100?boutiqueId=572633&merchantId=106924',\n",
       " '/royal-canin/kitten-10-kg-yavru-kedi-mamasi-p-90708798?boutiqueId=61&merchantId=373018',\n",
       " '/royal-canin/fit-32-kedi-kuru-mamasi-15-kg-p-750880?boutiqueId=569126&merchantId=112571',\n",
       " '/royal-canin/sensible-kuru-kedi-mamasi-4-kg-p-750103?boutiqueId=569126&merchantId=131181',\n",
       " '/royal-canin/savour-exigent-kedi-kuru-mamasi-2-kg-p-750109?boutiqueId=61&merchantId=244620',\n",
       " '/royal-canin/fhn-sterilised-37-kisirlastirilmis-kedi-mamasi-4-kg-ptanna251100066-p-32243318?boutiqueId=61&merchantId=373018',\n",
       " '/royal-canin/exigent-hassas-35-30-kuru-kedi-mamasi-10-kg-p-750112?boutiqueId=569126&merchantId=106924',\n",
       " '/royal-canin/hair-skin-kedi-mamasi-4-kg-p-34347671?boutiqueId=569126&merchantId=106924',\n",
       " '/royal-canin/sterilised-37-kisir-kedi-kuru-mamasi-2-kg-p-61899411?boutiqueId=61&merchantId=373018',\n",
       " '/royal-canin/mother-baby-cat-yavru-kedi-mamasi-4-kg-p-65902819?boutiqueId=569126&merchantId=373018',\n",
       " '/royal-canin/sterilised-jelly-kisir-kedi-pouch-yas-mama-85-gr-x-12-adet-p-4741147?boutiqueId=572633&merchantId=131181',\n",
       " '/royal-canin/kitten-jelly-85-gr-12-adet-p-4741145?boutiqueId=572633&merchantId=106924',\n",
       " '/royal-canin/british-shorthair-yetiskin-kedi-mamasi-10-kg-p-1914356?boutiqueId=569126&merchantId=107361',\n",
       " '/royal-canin/sensible-33-kuru-kedi-mamasi-2-kg-p-750102?boutiqueId=572633&merchantId=106924',\n",
       " '/royal-canin/sterilised-7-kisirlastirilmis-yasli-kedi-mamasi-3-5-kg-p-925661?boutiqueId=569126&merchantId=106924',\n",
       " '/royal-canin/sensible-33-kedi-mamasi-15-kg-p-925653?boutiqueId=61&merchantId=222830',\n",
       " '/royal-canin/sterilised-37-4-kg-kisirlastirilmis-kuru-kedi-mamasi-p-94704508?boutiqueId=569126&merchantId=373018',\n",
       " '/royal-canin/british-shorthair-adult-yetiskin-kedi-mamasi-4-kg-p-925660?boutiqueId=569126&merchantId=131181',\n",
       " '/royal-canin/kuru-kedi-mamasi-2-kg-p-750121?boutiqueId=569126&merchantId=106924',\n",
       " '/royal-canin/fit-yetiskin-kedi-mamasi-10-kg-p-2265991?boutiqueId=569126&merchantId=107975',\n",
       " '/royal-canin/hair-skin-hassas-tuylu-kedi-mamasi-4-kg-p-78998973?boutiqueId=61&merchantId=110338',\n",
       " '/royal-canin/indoor-27-kuru-kedi-mamasi-2-kg-p-750108?boutiqueId=569126&merchantId=106924',\n",
       " '/royal-canin/ageing-12-yas-uzeri-yasli-kuru-kedi-mamasi-2-kg-p-750123?boutiqueId=569126&merchantId=107361',\n",
       " '/royal-canin/light-weight-care-yetiskin-kedi-mamasi-1-5-kg-p-90732565?boutiqueId=61&merchantId=281103',\n",
       " '/royal-canin/kitten-yavru-kedi-mamasi-10-kg-p-40470389?boutiqueId=569126&merchantId=373018',\n",
       " '/royal-canin/exigent-35-30-kuru-kedi-mamasi-4-kg-p-750111?boutiqueId=569126&merchantId=106924',\n",
       " '/royal-canin/light-weight-care-kedi-mamasi-8-kg-p-41273315?boutiqueId=569126&merchantId=106924',\n",
       " '/royal-canin/persian-irka-ozel-yavru-kedi-mamasi-2-kg-p-925659?boutiqueId=570354&merchantId=222830',\n",
       " '/royal-canin/hair-skin-hassas-tuylu-kedi-mamasi-2-kg-p-39610538?boutiqueId=61&merchantId=373018',\n",
       " '/royal-canin/persian-adult-kuru-kedi-mamasi-4-kg-p-925658?boutiqueId=569126&merchantId=107361',\n",
       " '/royal-canin/light-weight-kedi-mamasi-1-5-kg-p-41273748?boutiqueId=569126&merchantId=373018',\n",
       " '/royal-canin/fit-32-yetiskin-kedi-mamasi-15-kg-p-56827128?boutiqueId=61&merchantId=373018',\n",
       " '/royal-canin/british-shorthair-icin-ozel-yetiskin-kedi-mamasi-85-gr-p-4045093?boutiqueId=569126&merchantId=131181',\n",
       " '/royal-canin/persian-kedi-mamasi-2kg-p-66033710?boutiqueId=61&merchantId=281103']"
      ]
     },
     "execution_count": 88,
     "metadata": {},
     "output_type": "execute_result"
    }
   ],
   "source": [
    "href_links"
   ]
  },
  {
   "cell_type": "code",
   "execution_count": 109,
   "metadata": {},
   "outputs": [],
   "source": [
    "products_links = []\n",
    "\n",
    "for i, value in enumerate(href_links):\n",
    "    url = \"https://www.trendyol.com\" + value\n",
    "    products_links.append(url)"
   ]
  },
  {
   "cell_type": "code",
   "execution_count": 110,
   "metadata": {
    "scrolled": true
   },
   "outputs": [
    {
     "data": {
      "text/plain": [
       "['https://www.trendyol.com/royal-canin/kitten-yavru-kedi-mamasi-2-kg-p-750104?boutiqueId=572633&merchantId=106924',\n",
       " 'https://www.trendyol.com/royal-canin/kitten-kedi-kuru-mamasi-4-kg-p-1224010?boutiqueId=569126&merchantId=106924',\n",
       " 'https://www.trendyol.com/royal-canin/sterilised-37-kedi-mamasi-4-kg-p-750115?boutiqueId=569126&merchantId=112571',\n",
       " 'https://www.trendyol.com/royal-canin/mother-babycat-yavru-kuru-kedi-mamasi-4-kg-p-750118?boutiqueId=569126&merchantId=106924',\n",
       " 'https://www.trendyol.com/royal-canin/sterilised-kisirlastirilmis-kedi-mamasi-10-kg-p-35101612?boutiqueId=569126&merchantId=269810',\n",
       " 'https://www.trendyol.com/royal-canin/sterilised-37-kedi-kuru-mamasi-2-kg-p-750114?boutiqueId=572633&merchantId=106924',\n",
       " 'https://www.trendyol.com/royal-canin/sterilised-37-kedi-mamasi-15-kg-p-750116?boutiqueId=569126&merchantId=118045',\n",
       " 'https://www.trendyol.com/royal-canin/british-shorthair-kitten-kedi-kuru-mamasi-2-kg-p-2264327?boutiqueId=569126&merchantId=106924',\n",
       " 'https://www.trendyol.com/royal-canin/babycat-yavru-kuru-kedi-mamasi-2-kg-p-750117?boutiqueId=572633&merchantId=106924',\n",
       " 'https://www.trendyol.com/royal-canin/kitten-yavru-kedi-mamasi-10-kg-p-750105?boutiqueId=569126&merchantId=106924',\n",
       " 'https://www.trendyol.com/royal-canin/hair-skin-hassas-tuylu-kediler-icin-mama-2-kg-p-750107?boutiqueId=569126&merchantId=107361',\n",
       " 'https://www.trendyol.com/royal-canin/fit-32-kedi-kuru-mamasi-4-kg-p-750101?boutiqueId=570354&merchantId=222830',\n",
       " 'https://www.trendyol.com/royal-canin/fit-32-yetiskin-kedi-mamasi-2-kg-p-750100?boutiqueId=572633&merchantId=106924',\n",
       " 'https://www.trendyol.com/royal-canin/savour-exigent-kedi-kuru-mamasi-2-kg-p-750109?boutiqueId=61&merchantId=244620',\n",
       " 'https://www.trendyol.com/royal-canin/kitten-10-kg-yavru-kedi-mamasi-p-90708798?boutiqueId=61&merchantId=373018',\n",
       " 'https://www.trendyol.com/royal-canin/sterilised-37-kisir-kedi-kuru-mamasi-2-kg-p-61899411?boutiqueId=61&merchantId=373018',\n",
       " 'https://www.trendyol.com/royal-canin/fhn-sterilised-37-kisirlastirilmis-kedi-mamasi-4-kg-ptanna251100066-p-32243318?boutiqueId=61&merchantId=373018',\n",
       " 'https://www.trendyol.com/royal-canin/fcn-hairskin-deri-ve-tuy-sagligi-icin-yetiskin-kuru-kedi-mamasi-4-kg-p-925654?boutiqueId=569126&merchantId=112571',\n",
       " 'https://www.trendyol.com/royal-canin/british-shorthair-adult-kedi-kuru-mamasi-2-kg-p-1196305?boutiqueId=569126&merchantId=106924',\n",
       " 'https://www.trendyol.com/royal-canin/sterilised-37-4-kg-kisirlastirilmis-kuru-kedi-mamasi-p-94704508?boutiqueId=569126&merchantId=373018',\n",
       " 'https://www.trendyol.com/royal-canin/hair-skin-kedi-mamasi-4-kg-p-34347671?boutiqueId=569126&merchantId=106924',\n",
       " 'https://www.trendyol.com/royal-canin/sensible-kuru-kedi-mamasi-4-kg-p-750103?boutiqueId=569126&merchantId=131181',\n",
       " 'https://www.trendyol.com/royal-canin/sensible-33-kuru-kedi-mamasi-2-kg-p-750102?boutiqueId=572633&merchantId=106924',\n",
       " 'https://www.trendyol.com/royal-canin/kitten-jelly-85-gr-12-adet-p-4741145?boutiqueId=572633&merchantId=106924',\n",
       " 'https://www.trendyol.com/royal-canin/light-weight-care-kedi-mamasi-8-kg-p-41273315?boutiqueId=569126&merchantId=106924',\n",
       " 'https://www.trendyol.com/royal-canin/fit-32-kedi-kuru-mamasi-15-kg-p-750880?boutiqueId=569126&merchantId=131181',\n",
       " 'https://www.trendyol.com/royal-canin/mother-babycat-anne-yavru-kedi-mamasi-4-kg-4-adet-kitten-yas-mama-p-44610201?boutiqueId=61&merchantId=373018',\n",
       " 'https://www.trendyol.com/royal-canin/sterilised-7-kisirlastirilmis-yasli-kedi-mamasi-3-5-kg-p-925661?boutiqueId=569126&merchantId=106924',\n",
       " 'https://www.trendyol.com/royal-canin/kuru-kedi-mamasi-2-kg-p-750121?boutiqueId=569126&merchantId=106924',\n",
       " 'https://www.trendyol.com/royal-canin/mother-baby-cat-yavru-kedi-mamasi-4-kg-p-65902819?boutiqueId=569126&merchantId=373018',\n",
       " 'https://www.trendyol.com/royal-canin/british-shorthair-adult-yetiskin-kedi-mamasi-4-kg-p-925660?boutiqueId=569126&merchantId=131181',\n",
       " 'https://www.trendyol.com/royal-canin/sterilised-jelly-kisir-kedi-pouch-yas-mama-85-gr-x-12-adet-p-4741147?boutiqueId=572633&merchantId=131181',\n",
       " 'https://www.trendyol.com/royal-canin/ageing-12-yas-uzeri-yasli-kuru-kedi-mamasi-2-kg-p-750123?boutiqueId=569126&merchantId=107361',\n",
       " 'https://www.trendyol.com/royal-canin/british-shorthair-yetiskin-kedi-mamasi-10-kg-p-1914356?boutiqueId=569126&merchantId=107361',\n",
       " 'https://www.trendyol.com/royal-canin/sensible-33-kedi-mamasi-15-kg-p-925653?boutiqueId=61&merchantId=222830',\n",
       " 'https://www.trendyol.com/royal-canin/light-weight-kedi-mamasi-1-5-kg-p-41273748?boutiqueId=569126&merchantId=373018',\n",
       " 'https://www.trendyol.com/royal-canin/hair-skin-hassas-tuylu-kedi-mamasi-4-kg-p-78998973?boutiqueId=61&merchantId=110338',\n",
       " 'https://www.trendyol.com/royal-canin/fit-yetiskin-kedi-mamasi-10-kg-p-2265991?boutiqueId=569126&merchantId=107975',\n",
       " 'https://www.trendyol.com/royal-canin/indoor-27-kuru-kedi-mamasi-2-kg-p-750108?boutiqueId=569126&merchantId=106924',\n",
       " 'https://www.trendyol.com/royal-canin/oral-care-kedi-mamasi-1-5-kg-p-925655?boutiqueId=572633&merchantId=106924',\n",
       " 'https://www.trendyol.com/royal-canin/light-weight-care-yetiskin-kedi-mamasi-1-5-kg-p-90732565?boutiqueId=61&merchantId=281103',\n",
       " 'https://www.trendyol.com/royal-canin/kitten-yavru-kedi-mamasi-4-kg-p-62812893?boutiqueId=570354&merchantId=130548',\n",
       " 'https://www.trendyol.com/royal-canin/persian-adult-iran-kedilerine-ozel-irk-mamasi-4-kg-p-73630680?boutiqueId=61&merchantId=130831',\n",
       " 'https://www.trendyol.com/royal-canin/fit-32-kedi-mamasi-4-kg-vancat-bentonit-kedi-kumu-10-lt-original-p-45770272?boutiqueId=569126&merchantId=110338',\n",
       " 'https://www.trendyol.com/royal-canin/kitten-kedi-kuru-mamasi-4-kg-390092-p-69502615?boutiqueId=569126&merchantId=154031',\n",
       " 'https://www.trendyol.com/royal-canin/kitten-yavru-kedi-mamasi-10-kg-p-40470389?boutiqueId=569126&merchantId=373018',\n",
       " 'https://www.trendyol.com/royal-canin/persian-irka-ozel-yavru-kedi-mamasi-2-kg-p-925659?boutiqueId=570354&merchantId=222830',\n",
       " 'https://www.trendyol.com/royal-canin/exigent-35-30-kuru-kedi-mamasi-4-kg-p-750111?boutiqueId=569126&merchantId=106924']"
      ]
     },
     "execution_count": 110,
     "metadata": {},
     "output_type": "execute_result"
    }
   ],
   "source": [
    "products_links"
   ]
  },
  {
   "cell_type": "code",
   "execution_count": 91,
   "metadata": {},
   "outputs": [],
   "source": [
    "products_comment_link = []\n",
    "\n",
    "for i, value in enumerate(products_links):\n",
    "    link = value[:-36] + \"/yorumlar\" + value[-36:]\n",
    "    products_comment_link.append(link)"
   ]
  },
  {
   "cell_type": "code",
   "execution_count": 15,
   "metadata": {
    "collapsed": true
   },
   "outputs": [
    {
     "data": {
      "text/plain": [
       "['https://www.trendyol.com/royal-canin/kitten-yavru-kedi-mamasi-2-kg-p-750104/yorumlar?boutiqueId=572633&merchantId=106924',\n",
       " 'https://www.trendyol.com/royal-canin/kitten-kedi-kuru-mamasi-4-kg-p-1224010/yorumlar?boutiqueId=569126&merchantId=112571',\n",
       " 'https://www.trendyol.com/royal-canin/sterilised-37-kedi-mamasi-4-kg-p-750115/yorumlar?boutiqueId=569126&merchantId=106924',\n",
       " 'https://www.trendyol.com/royal-canin/sterilised-kisirlastirilmis-kedi-mamasi-10-kg-p-35101612/yorumlar?boutiqueId=569126&merchantId=269810',\n",
       " 'https://www.trendyol.com/royal-canin/mother-babycat-yavru-kuru-kedi-mamasi-4-kg-p-750118/yorumlar?boutiqueId=569126&merchantId=106924',\n",
       " 'https://www.trendyol.com/royal-canin/sterilised-37-kedi-kuru-mamasi-2-kg-p-750114/yorumlar?boutiqueId=572633&merchantId=106924',\n",
       " 'https://www.trendyol.com/royal-canin/british-shorthair-kitten-kedi-kuru-mamasi-2-kg-p-2264327/yorumlar?boutiqueId=569126&merchantId=106924',\n",
       " 'https://www.trendyol.com/royal-canin/kitten-yavru-kedi-mamasi-10-kg-p-750105/yorumlar?boutiqueId=569126&merchantId=106924',\n",
       " 'https://www.trendyol.com/royal-canin/babycat-yavru-kuru-kedi-mamasi-2-kg-p-750117/yorumlar?boutiqueId=572633&merchantId=106924',\n",
       " 'https://www.trendyol.com/royal-canin/sterilised-37-kedi-mamasi-15-kg-p-750116/yorumlar?boutiqueId=569126&merchantId=131181',\n",
       " 'https://www.trendyol.com/royal-canin/hair-skin-hassas-tuylu-kediler-icin-mama-2-kg-p-75/yorumlar0107?boutiqueId=61&merchantId=244620',\n",
       " 'https://www.trendyol.com/royal-canin/fit-32-kedi-kuru-mamasi-4-kg-p-750101/yorumlar?boutiqueId=570354&merchantId=222830',\n",
       " 'https://www.trendyol.com/royal-canin/fcn-hairskin-deri-ve-tuy-sagligi-icin-yetiskin-kuru-kedi-mamasi-4-kg-p-925654/yorumlar?boutiqueId=569126&merchantId=107361',\n",
       " 'https://www.trendyol.com/royal-canin/kitten-10-kg-yavru-kedi-mamasi-p-9070/yorumlar8798?boutiqueId=61&merchantId=373018',\n",
       " 'https://www.trendyol.com/royal-canin/fit-32-kedi-kuru-mamasi-15-kg-p-750880/yorumlar?boutiqueId=569126&merchantId=112571',\n",
       " 'https://www.trendyol.com/royal-canin/fit-32-yetiskin-kedi-mamasi-2-kg-p-750100/yorumlar?boutiqueId=572633&merchantId=106924',\n",
       " 'https://www.trendyol.com/royal-canin/british-shorthair-adult-kedi-kuru-mamasi-2-kg-p-1196305/yorumlar?boutiqueId=569126&merchantId=106924',\n",
       " 'https://www.trendyol.com/royal-canin/fhn-sterilised-37-kisirlastirilmis-kedi-mamasi-4-kg-ptanna251100066-p-3224/yorumlar3318?boutiqueId=61&merchantId=373018',\n",
       " 'https://www.trendyol.com/royal-canin/sterilised-37-kisir-kedi-kuru-mamasi-2-kg-p-6189/yorumlar9411?boutiqueId=61&merchantId=373018',\n",
       " 'https://www.trendyol.com/royal-canin/savour-exigent-kedi-kuru-mamasi-2-kg-p-75/yorumlar0109?boutiqueId=61&merchantId=244620',\n",
       " 'https://www.trendyol.com/royal-canin/mother-baby-cat-yavru-kedi-mamasi-4-kg-p-65902819/yorumlar?boutiqueId=569126&merchantId=373018',\n",
       " 'https://www.trendyol.com/royal-canin/sterilised-jelly-kisir-kedi-pouch-yas-mama-85-gr-x-12-adet-p-4741147/yorumlar?boutiqueId=572633&merchantId=131181',\n",
       " 'https://www.trendyol.com/royal-canin/british-shorthair-yetiskin-kedi-mamasi-10-kg-p-1914356/yorumlar?boutiqueId=569126&merchantId=106924',\n",
       " 'https://www.trendyol.com/royal-canin/sensible-33-kedi-mamasi-15-kg-p-92/yorumlar5653?boutiqueId=61&merchantId=222830',\n",
       " 'https://www.trendyol.com/royal-canin/sensible-33-kuru-kedi-mamasi-2-kg-p-750102/yorumlar?boutiqueId=572633&merchantId=106924',\n",
       " 'https://www.trendyol.com/royal-canin/kitten-jelly-85-gr-12-adet-p-4741145/yorumlar?boutiqueId=572633&merchantId=106924',\n",
       " 'https://www.trendyol.com/royal-canin/hair-skin-kedi-mamasi-4-kg-p-34347671/yorumlar?boutiqueId=569126&merchantId=106924',\n",
       " 'https://www.trendyol.com/royal-canin/sterilised-7-kisirlastirilmis-yasli-kedi-mamasi-3-5-kg-p-925661/yorumlar?boutiqueId=569126&merchantId=106924',\n",
       " 'https://www.trendyol.com/royal-canin/sensible-kuru-kedi-mamasi-4-kg-p-750103/yorumlar?boutiqueId=569126&merchantId=131181',\n",
       " 'https://www.trendyol.com/royal-canin/sterilised-37-4-kg-kisirlastirilmis-kuru-kedi-mamasi-p-94704508/yorumlar?boutiqueId=569126&merchantId=373018',\n",
       " 'https://www.trendyol.com/royal-canin/british-shorthair-adult-yetiskin-kedi-mamasi-4-kg-p-925660/yorumlar?boutiqueId=569126&merchantId=131181',\n",
       " 'https://www.trendyol.com/royal-canin/kuru-kedi-mamasi-2-kg-p-750121/yorumlar?boutiqueId=569126&merchantId=106924',\n",
       " 'https://www.trendyol.com/royal-canin/fit-yetiskin-kedi-mamasi-10-kg-p-2265991/yorumlar?boutiqueId=569126&merchantId=107975',\n",
       " 'https://www.trendyol.com/royal-canin/indoor-27-kuru-kedi-mamasi-2-kg-p-750108/yorumlar?boutiqueId=569126&merchantId=106924',\n",
       " 'https://www.trendyol.com/royal-canin/hair-skin-hassas-tuylu-kedi-mamasi-4-kg-p-7899/yorumlar8973?boutiqueId=61&merchantId=110338',\n",
       " 'https://www.trendyol.com/royal-canin/ageing-12-yas-uzeri-yasli-kuru-kedi-mamasi-2-kg-p-750123/yorumlar?boutiqueId=569126&merchantId=107361',\n",
       " 'https://www.trendyol.com/royal-canin/light-weight-care-yetiskin-kedi-mamasi-1-5-kg-p-9073/yorumlar2565?boutiqueId=61&merchantId=281103',\n",
       " 'https://www.trendyol.com/royal-canin/light-weight-care-kedi-mamasi-8-kg-p-41273315/yorumlar?boutiqueId=569126&merchantId=106924',\n",
       " 'https://www.trendyol.com/royal-canin/exigent-35-30-kuru-kedi-mamasi-4-kg-p-750111/yorumlar?boutiqueId=569126&merchantId=106924',\n",
       " 'https://www.trendyol.com/royal-canin/kitten-yavru-kedi-mamasi-10-kg-p-40470389/yorumlar?boutiqueId=569126&merchantId=373018',\n",
       " 'https://www.trendyol.com/royal-canin/persian-irka-ozel-yavru-kedi-mamasi-2-kg-p-925659/yorumlar?boutiqueId=570354&merchantId=222830',\n",
       " 'https://www.trendyol.com/royal-canin/hair-skin-hassas-tuylu-kedi-mamasi-2-kg-p-3961/yorumlar0538?boutiqueId=61&merchantId=373018',\n",
       " 'https://www.trendyol.com/royal-canin/persian-adult-kuru-kedi-mamasi-4-kg-p-925658/yorumlar?boutiqueId=569126&merchantId=107361',\n",
       " 'https://www.trendyol.com/royal-canin/light-weight-kedi-mamasi-1-5-kg-p-41273748/yorumlar?boutiqueId=569126&merchantId=373018',\n",
       " 'https://www.trendyol.com/royal-canin/fit-32-yetiskin-kedi-mamasi-15-kg-p-5682/yorumlar7128?boutiqueId=61&merchantId=373018',\n",
       " 'https://www.trendyol.com/royal-canin/british-shorthair-icin-ozel-yetiskin-kedi-mamasi-85-gr-p-4045093/yorumlar?boutiqueId=569126&merchantId=131181',\n",
       " 'https://www.trendyol.com/royal-canin/babycat-yavru-kedi-mamasi-400-gr-p-1914353/yorumlar?boutiqueId=569126&merchantId=113353',\n",
       " 'https://www.trendyol.com/royal-canin/sterilised-37-kisirlastirilmis-kedi-mamasi-2kg-p-3707/yorumlar6443?boutiqueId=61&merchantId=373018']"
      ]
     },
     "execution_count": 15,
     "metadata": {},
     "output_type": "execute_result"
    }
   ],
   "source": [
    "products_comment_link"
   ]
  },
  {
   "cell_type": "code",
   "execution_count": 116,
   "metadata": {},
   "outputs": [
    {
     "data": {
      "text/plain": [
       "'prod_name = []\\nprod_comment = []\\n\\nfor i, value in enumerate(products_comment_link):\\n    url = urlopen(value)\\n    soup = BeautifulSoup(url, \"html.parser\")\\n    #name\\n    try:\\n        name = soup.find(\"span\", {\"class\":\"product-name\"}).text\\n        prod_name.append(name)\\n    except:\\n        prod_name.append(\"None\")\\n    #comments\\n    try:\\n        comment = soup.find_all(\"div\", {\"class\":\\'rnr-com-w\\'}).text\\n        prod_comment.append(comment)\\n    except:\\n        prod_comment.append(\"None\")'"
      ]
     },
     "execution_count": 116,
     "metadata": {},
     "output_type": "execute_result"
    }
   ],
   "source": [
    "\"\"\"prod_name = []\n",
    "prod_comment = []\n",
    "\n",
    "for i, value in enumerate(products_comment_link):\n",
    "    url = urlopen(value)\n",
    "    soup = BeautifulSoup(url, \"html.parser\")\n",
    "    #name\n",
    "    try:\n",
    "        name = soup.find(\"span\", {\"class\":\"product-name\"}).text\n",
    "        prod_name.append(name)\n",
    "    except:\n",
    "        prod_name.append(\"None\")\n",
    "    #comments\n",
    "    try:\n",
    "        comment = soup.find_all(\"div\", {\"class\":'rnr-com-w'}).text\n",
    "        prod_comment.append(comment)\n",
    "    except:\n",
    "        prod_comment.append(\"None\")\"\"\""
   ]
  },
  {
   "cell_type": "code",
   "execution_count": null,
   "metadata": {},
   "outputs": [],
   "source": [
    "products_comment_link"
   ]
  },
  {
   "cell_type": "markdown",
   "metadata": {},
   "source": [
    "# SELENIUM"
   ]
  },
  {
   "cell_type": "markdown",
   "metadata": {},
   "source": [
    "# ROYAL CANIN"
   ]
  },
  {
   "cell_type": "code",
   "execution_count": 111,
   "metadata": {},
   "outputs": [],
   "source": [
    "chrome_part = \"C:/Program Files (x86)/Google/Chrome/Application/chromedriver\"\n",
    "driver = webdriver.Chrome(chrome_part)"
   ]
  },
  {
   "cell_type": "code",
   "execution_count": 112,
   "metadata": {},
   "outputs": [],
   "source": [
    "url = 'https://www.trendyol.com/royal-canin/kitten-yavru-kedi-mamasi-2-kg-p-750104/yorumlar?boutiqueId=572633&merchantId=106924'"
   ]
  },
  {
   "cell_type": "code",
   "execution_count": 113,
   "metadata": {},
   "outputs": [],
   "source": [
    "driver.get(url)"
   ]
  },
  {
   "cell_type": "code",
   "execution_count": 114,
   "metadata": {},
   "outputs": [
    {
     "data": {
      "text/plain": [
       "'güzel bir tercih, kedim küçükken almıştım çok memnun kaldım'"
      ]
     },
     "execution_count": 114,
     "metadata": {},
     "output_type": "execute_result"
    }
   ],
   "source": [
    "driver.find_element_by_xpath(\"\"\"/html/body/div[1]/div[3]/div/div/div[2]/div/div[2]/div[3]/div[2]/div[5]/div[1]/div\"\"\").text\n"
   ]
  },
  {
   "cell_type": "code",
   "execution_count": 115,
   "metadata": {},
   "outputs": [],
   "source": [
    "products_comment_link = products_comment_link[1:4]"
   ]
  },
  {
   "cell_type": "code",
   "execution_count": 116,
   "metadata": {},
   "outputs": [
    {
     "data": {
      "text/plain": [
       "['https://www.trendyol.com/royal-canin/sterilised-37-kedi-mamasi-4-kg-p-750115/yorumlar?boutiqueId=569126&merchantId=106924',\n",
       " 'https://www.trendyol.com/royal-canin/mother-babycat-yavru-kuru-kedi-mamasi-4-kg-p-750118/yorumlar?boutiqueId=569126&merchantId=106924']"
      ]
     },
     "execution_count": 116,
     "metadata": {},
     "output_type": "execute_result"
    }
   ],
   "source": [
    "products_comment_link"
   ]
  },
  {
   "cell_type": "code",
   "execution_count": 117,
   "metadata": {},
   "outputs": [
    {
     "data": {
      "text/plain": [
       "[['Royal Canin',\n",
       "  'Mavi Reyon',\n",
       "  'Kedim severek yiyor, küçük boyunu alıp denemiştik, sevince büyük boyunu da aldık'],\n",
       " ['Royal Canin',\n",
       "  'Mavi Reyon',\n",
       "  'daha önce ufak boyunu denemek için aldım kedim beğenmişti şimdi indirimden büyük boyunu aldım memnun kaldım'],\n",
       " ['Royal Canin', 'Mavi Reyon', 'Tam bebişlere göre minicik'],\n",
       " ['Royal Canin',\n",
       "  'Mavi Reyon',\n",
       "  'Kedim 2 aylık, mamayı aşırı sevdi adeta nefes almadan yiyor. Mamanın içeriği de oldukça faydalı. Kedinin yaşı ve kilosuna göre mamanın miktarını ayarlamalısınız.']]"
      ]
     },
     "execution_count": 117,
     "metadata": {},
     "output_type": "execute_result"
    }
   ],
   "source": [
    "prod_comment = []\n",
    "\n",
    "for i, value in enumerate(products_comment_link):\n",
    "    driver.get(value)\n",
    "    for j in range(1,5,2):\n",
    "        try:\n",
    "            comment = (driver.find_element_by_xpath(\"\"\"/html/body/div[1]/div[3]/div/div/div[2]/div/div[2]/div[3]/div[2]/div[\"\"\" + str(j) + \"\"\"]/div[1]/div\"\"\")).text\n",
    "        except:\n",
    "            comment = \"None\"\n",
    "        time.sleep(3)\n",
    " \n",
    "        name = (driver.find_element_by_css_selector(\"\"\".seller-name-info\"\"\").text)\n",
    "   \n",
    "        try:\n",
    "            brand = (driver.find_element_by_xpath(\"\"\"/html/body/div[1]/div[3]/div/div/div[1]/div/div[1]/div[2]/h1/span[1]\"\"\")).text\n",
    "        except:\n",
    "            brand = \"None\"\n",
    "        info = [brand, name, comment]\n",
    "        prod_comment.append(info)\n",
    "\n",
    "            \n",
    "driver.close()\n",
    "prod_comment \n"
   ]
  },
  {
   "cell_type": "code",
   "execution_count": 118,
   "metadata": {},
   "outputs": [],
   "source": [
    "royal_trendyol = pd.DataFrame(prod_comment)"
   ]
  },
  {
   "cell_type": "code",
   "execution_count": 119,
   "metadata": {},
   "outputs": [],
   "source": [
    "royal_trendyol = royal_trendyol[royal_trendyol[2] != \"None\"]"
   ]
  },
  {
   "cell_type": "code",
   "execution_count": 120,
   "metadata": {},
   "outputs": [
    {
     "data": {
      "text/html": [
       "<div>\n",
       "<style scoped>\n",
       "    .dataframe tbody tr th:only-of-type {\n",
       "        vertical-align: middle;\n",
       "    }\n",
       "\n",
       "    .dataframe tbody tr th {\n",
       "        vertical-align: top;\n",
       "    }\n",
       "\n",
       "    .dataframe thead th {\n",
       "        text-align: right;\n",
       "    }\n",
       "</style>\n",
       "<table border=\"1\" class=\"dataframe\">\n",
       "  <thead>\n",
       "    <tr style=\"text-align: right;\">\n",
       "      <th></th>\n",
       "      <th>0</th>\n",
       "      <th>1</th>\n",
       "      <th>2</th>\n",
       "    </tr>\n",
       "  </thead>\n",
       "  <tbody>\n",
       "    <tr>\n",
       "      <th>0</th>\n",
       "      <td>Royal Canin</td>\n",
       "      <td>Mavi Reyon</td>\n",
       "      <td>Kedim severek yiyor, küçük boyunu alıp denemiş...</td>\n",
       "    </tr>\n",
       "    <tr>\n",
       "      <th>1</th>\n",
       "      <td>Royal Canin</td>\n",
       "      <td>Mavi Reyon</td>\n",
       "      <td>daha önce ufak boyunu denemek için aldım kedim...</td>\n",
       "    </tr>\n",
       "    <tr>\n",
       "      <th>2</th>\n",
       "      <td>Royal Canin</td>\n",
       "      <td>Mavi Reyon</td>\n",
       "      <td>Tam bebişlere göre minicik</td>\n",
       "    </tr>\n",
       "    <tr>\n",
       "      <th>3</th>\n",
       "      <td>Royal Canin</td>\n",
       "      <td>Mavi Reyon</td>\n",
       "      <td>Kedim 2 aylık, mamayı aşırı sevdi adeta nefes ...</td>\n",
       "    </tr>\n",
       "  </tbody>\n",
       "</table>\n",
       "</div>"
      ],
      "text/plain": [
       "             0           1                                                  2\n",
       "0  Royal Canin  Mavi Reyon  Kedim severek yiyor, küçük boyunu alıp denemiş...\n",
       "1  Royal Canin  Mavi Reyon  daha önce ufak boyunu denemek için aldım kedim...\n",
       "2  Royal Canin  Mavi Reyon                         Tam bebişlere göre minicik\n",
       "3  Royal Canin  Mavi Reyon  Kedim 2 aylık, mamayı aşırı sevdi adeta nefes ..."
      ]
     },
     "execution_count": 120,
     "metadata": {},
     "output_type": "execute_result"
    }
   ],
   "source": [
    "royal_trendyol"
   ]
  },
  {
   "cell_type": "code",
   "execution_count": 123,
   "metadata": {},
   "outputs": [
    {
     "data": {
      "text/html": [
       "<div>\n",
       "<style scoped>\n",
       "    .dataframe tbody tr th:only-of-type {\n",
       "        vertical-align: middle;\n",
       "    }\n",
       "\n",
       "    .dataframe tbody tr th {\n",
       "        vertical-align: top;\n",
       "    }\n",
       "\n",
       "    .dataframe thead th {\n",
       "        text-align: right;\n",
       "    }\n",
       "</style>\n",
       "<table border=\"1\" class=\"dataframe\">\n",
       "  <thead>\n",
       "    <tr style=\"text-align: right;\">\n",
       "      <th></th>\n",
       "      <th>index</th>\n",
       "      <th>0</th>\n",
       "      <th>1</th>\n",
       "      <th>2</th>\n",
       "    </tr>\n",
       "  </thead>\n",
       "  <tbody>\n",
       "    <tr>\n",
       "      <th>0</th>\n",
       "      <td>0</td>\n",
       "      <td>Royal Canin</td>\n",
       "      <td>Mavi Reyon</td>\n",
       "      <td>Kedim severek yiyor, küçük boyunu alıp denemiş...</td>\n",
       "    </tr>\n",
       "    <tr>\n",
       "      <th>1</th>\n",
       "      <td>1</td>\n",
       "      <td>Royal Canin</td>\n",
       "      <td>Mavi Reyon</td>\n",
       "      <td>daha önce ufak boyunu denemek için aldım kedim...</td>\n",
       "    </tr>\n",
       "    <tr>\n",
       "      <th>2</th>\n",
       "      <td>2</td>\n",
       "      <td>Royal Canin</td>\n",
       "      <td>Mavi Reyon</td>\n",
       "      <td>Tam bebişlere göre minicik</td>\n",
       "    </tr>\n",
       "    <tr>\n",
       "      <th>3</th>\n",
       "      <td>3</td>\n",
       "      <td>Royal Canin</td>\n",
       "      <td>Mavi Reyon</td>\n",
       "      <td>Kedim 2 aylık, mamayı aşırı sevdi adeta nefes ...</td>\n",
       "    </tr>\n",
       "  </tbody>\n",
       "</table>\n",
       "</div>"
      ],
      "text/plain": [
       "   index            0           1  \\\n",
       "0      0  Royal Canin  Mavi Reyon   \n",
       "1      1  Royal Canin  Mavi Reyon   \n",
       "2      2  Royal Canin  Mavi Reyon   \n",
       "3      3  Royal Canin  Mavi Reyon   \n",
       "\n",
       "                                                   2  \n",
       "0  Kedim severek yiyor, küçük boyunu alıp denemiş...  \n",
       "1  daha önce ufak boyunu denemek için aldım kedim...  \n",
       "2                         Tam bebişlere göre minicik  \n",
       "3  Kedim 2 aylık, mamayı aşırı sevdi adeta nefes ...  "
      ]
     },
     "execution_count": 123,
     "metadata": {},
     "output_type": "execute_result"
    }
   ],
   "source": [
    "royal_trendyol = royal_trendyol.reset_index(drop = True)\n",
    "royal_trendyol"
   ]
  },
  {
   "cell_type": "code",
   "execution_count": 168,
   "metadata": {},
   "outputs": [],
   "source": [
    "royal_trendyol.to_csv(\"royal_trendyol.csv\", encoding=\"utf-8\")"
   ]
  }
 ],
 "metadata": {
  "kernelspec": {
   "display_name": "Python 3",
   "language": "python",
   "name": "python3"
  },
  "language_info": {
   "codemirror_mode": {
    "name": "ipython",
    "version": 3
   },
   "file_extension": ".py",
   "mimetype": "text/x-python",
   "name": "python",
   "nbconvert_exporter": "python",
   "pygments_lexer": "ipython3",
   "version": "3.8.3"
  }
 },
 "nbformat": 4,
 "nbformat_minor": 4
}
